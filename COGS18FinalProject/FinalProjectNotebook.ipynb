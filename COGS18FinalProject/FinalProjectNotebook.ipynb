{
 "cells": [
  {
   "cell_type": "markdown",
   "id": "a281a16d",
   "metadata": {},
   "source": [
    "# Project Description"
   ]
  },
  {
   "cell_type": "markdown",
   "id": "20af3abc",
   "metadata": {},
   "source": [
    "Flight schedule changes are incredibly stressful when traveling. Unfortunately, not all airlines are equally accommodating when it comes to sudden travel issues. While customers can't always control unprecendented itinerary changes, selecting airlines with better customer service may help alleviate concerns. As someone who has dealt with multiple unexpected layovers plus rebookings and will be traveling again soon, I wanted to conduct an analysis of airlines' customer service to inform my future travel choices.\n",
    "\n",
    "This data analysis project will use open data from the US Data Catalog to evaluate 10 airlines and 5 commitments in the United States, identifying which airlines provide the most commitments and which commitments are more consistently provided. Results of analysis will be displayed in a dataframe and plot."
   ]
  },
  {
   "cell_type": "markdown",
   "id": "1e5b37b1",
   "metadata": {},
   "source": [
    "## Project Code"
   ]
  },
  {
   "cell_type": "code",
   "execution_count": 1,
   "id": "ff255435",
   "metadata": {},
   "outputs": [],
   "source": [
    "import numpy as np\n",
    "import pandas as pd\n",
    "import matplotlib.pyplot as plt\n",
    "import pytest\n",
    "\n",
    "from my_module.functions import datalist, airlines_analysis, commitments_analysis\n",
    "from my_module.test_functions import test_datalist, test_airlines_analysis, test_commitments_analysis\n",
    "from my_module.classes import DataSet"
   ]
  },
  {
   "cell_type": "markdown",
   "id": "2fa2f465",
   "metadata": {},
   "source": [
    "### <font color = brown> <center> Analysis of Airline Customer Service During Flight Delays"
   ]
  },
  {
   "cell_type": "markdown",
   "id": "39091bdc",
   "metadata": {},
   "source": [
    "First, we will be checking what the dataset includes."
   ]
  },
  {
   "cell_type": "code",
   "execution_count": 2,
   "id": "d78ec8a9",
   "metadata": {},
   "outputs": [],
   "source": [
    "# Initializing a class object for the 'delay' dataset\n",
    "Delay = DataSet('Airline_Customer_Service_Commitments_for_Delay.csv')\n",
    "\n",
    "df1 = Delay.df"
   ]
  },
  {
   "cell_type": "code",
   "execution_count": 3,
   "id": "a6ba7646",
   "metadata": {},
   "outputs": [
    {
     "data": {
      "text/html": [
       "<div>\n",
       "<style scoped>\n",
       "    .dataframe tbody tr th:only-of-type {\n",
       "        vertical-align: middle;\n",
       "    }\n",
       "\n",
       "    .dataframe tbody tr th {\n",
       "        vertical-align: top;\n",
       "    }\n",
       "\n",
       "    .dataframe thead th {\n",
       "        text-align: right;\n",
       "    }\n",
       "</style>\n",
       "<table border=\"1\" class=\"dataframe\">\n",
       "  <thead>\n",
       "    <tr style=\"text-align: right;\">\n",
       "      <th></th>\n",
       "      <th>Airline Carrier</th>\n",
       "    </tr>\n",
       "  </thead>\n",
       "  <tbody>\n",
       "    <tr>\n",
       "      <th>1</th>\n",
       "      <td>Alaska</td>\n",
       "    </tr>\n",
       "    <tr>\n",
       "      <th>2</th>\n",
       "      <td>Allegiant</td>\n",
       "    </tr>\n",
       "    <tr>\n",
       "      <th>3</th>\n",
       "      <td>American</td>\n",
       "    </tr>\n",
       "    <tr>\n",
       "      <th>4</th>\n",
       "      <td>Delta</td>\n",
       "    </tr>\n",
       "    <tr>\n",
       "      <th>5</th>\n",
       "      <td>Frontier</td>\n",
       "    </tr>\n",
       "    <tr>\n",
       "      <th>6</th>\n",
       "      <td>Hawaiian</td>\n",
       "    </tr>\n",
       "    <tr>\n",
       "      <th>7</th>\n",
       "      <td>JetBlue</td>\n",
       "    </tr>\n",
       "    <tr>\n",
       "      <th>8</th>\n",
       "      <td>Southwest</td>\n",
       "    </tr>\n",
       "    <tr>\n",
       "      <th>9</th>\n",
       "      <td>Spirit</td>\n",
       "    </tr>\n",
       "    <tr>\n",
       "      <th>10</th>\n",
       "      <td>United</td>\n",
       "    </tr>\n",
       "  </tbody>\n",
       "</table>\n",
       "</div>"
      ],
      "text/plain": [
       "   Airline Carrier\n",
       "1           Alaska\n",
       "2        Allegiant\n",
       "3         American\n",
       "4            Delta\n",
       "5         Frontier\n",
       "6         Hawaiian\n",
       "7          JetBlue\n",
       "8        Southwest\n",
       "9           Spirit\n",
       "10          United"
      ]
     },
     "execution_count": 3,
     "metadata": {},
     "output_type": "execute_result"
    }
   ],
   "source": [
    "# This is the list of included airlines\n",
    "datalist(df1, 'Carrier')"
   ]
  },
  {
   "cell_type": "code",
   "execution_count": 4,
   "id": "7bea340f",
   "metadata": {},
   "outputs": [
    {
     "data": {
      "text/html": [
       "<div>\n",
       "<style scoped>\n",
       "    .dataframe tbody tr th:only-of-type {\n",
       "        vertical-align: middle;\n",
       "    }\n",
       "\n",
       "    .dataframe tbody tr th {\n",
       "        vertical-align: top;\n",
       "    }\n",
       "\n",
       "    .dataframe thead th {\n",
       "        text-align: right;\n",
       "    }\n",
       "</style>\n",
       "<table border=\"1\" class=\"dataframe\">\n",
       "  <thead>\n",
       "    <tr style=\"text-align: right;\">\n",
       "      <th></th>\n",
       "      <th>Commitment</th>\n",
       "    </tr>\n",
       "  </thead>\n",
       "  <tbody>\n",
       "    <tr>\n",
       "      <th>1</th>\n",
       "      <td>Rebook passenger on same airline at no additional cost for significant delays</td>\n",
       "    </tr>\n",
       "    <tr>\n",
       "      <th>2</th>\n",
       "      <td>Rebook on partner airline or another airline with which it has an agreement at no additional cost for significant delays</td>\n",
       "    </tr>\n",
       "    <tr>\n",
       "      <th>3</th>\n",
       "      <td>Meal or meal cash/voucher when flight delay results in passenger waiting 3 hours or more</td>\n",
       "    </tr>\n",
       "    <tr>\n",
       "      <th>4</th>\n",
       "      <td>Complimentary hotel accommodations for any passenger affected by an overnight delay</td>\n",
       "    </tr>\n",
       "    <tr>\n",
       "      <th>5</th>\n",
       "      <td>Complimentary ground transportation to and from hotel for any passenger affected by an overnight delay</td>\n",
       "    </tr>\n",
       "  </tbody>\n",
       "</table>\n",
       "</div>"
      ],
      "text/plain": [
       "                                                                                                                 Commitment\n",
       "1                                             Rebook passenger on same airline at no additional cost for significant delays\n",
       "2  Rebook on partner airline or another airline with which it has an agreement at no additional cost for significant delays\n",
       "3                                  Meal or meal cash/voucher when flight delay results in passenger waiting 3 hours or more\n",
       "4                                       Complimentary hotel accommodations for any passenger affected by an overnight delay\n",
       "5                    Complimentary ground transportation to and from hotel for any passenger affected by an overnight delay"
      ]
     },
     "execution_count": 4,
     "metadata": {},
     "output_type": "execute_result"
    }
   ],
   "source": [
    "# This is the list of commitments\n",
    "datalist(df1, 'Commitment')"
   ]
  },
  {
   "cell_type": "markdown",
   "id": "888c2868",
   "metadata": {},
   "source": [
    "Now that the airlines and commitments included in the dataset are known, all the airlines will be *ranked* by the number of commitments they provide."
   ]
  },
  {
   "cell_type": "code",
   "execution_count": 5,
   "id": "94f3b6d5",
   "metadata": {},
   "outputs": [
    {
     "data": {
      "text/html": [
       "<div>\n",
       "<style scoped>\n",
       "    .dataframe tbody tr th:only-of-type {\n",
       "        vertical-align: middle;\n",
       "    }\n",
       "\n",
       "    .dataframe tbody tr th {\n",
       "        vertical-align: top;\n",
       "    }\n",
       "\n",
       "    .dataframe thead th {\n",
       "        text-align: right;\n",
       "    }\n",
       "</style>\n",
       "<table border=\"1\" class=\"dataframe\">\n",
       "  <thead>\n",
       "    <tr style=\"text-align: right;\">\n",
       "      <th></th>\n",
       "      <th>Provided</th>\n",
       "    </tr>\n",
       "    <tr>\n",
       "      <th>Carrier</th>\n",
       "      <th></th>\n",
       "    </tr>\n",
       "  </thead>\n",
       "  <tbody>\n",
       "    <tr>\n",
       "      <th>Alaska</th>\n",
       "      <td>5</td>\n",
       "    </tr>\n",
       "    <tr>\n",
       "      <th>American</th>\n",
       "      <td>5</td>\n",
       "    </tr>\n",
       "    <tr>\n",
       "      <th>Delta</th>\n",
       "      <td>5</td>\n",
       "    </tr>\n",
       "    <tr>\n",
       "      <th>JetBlue</th>\n",
       "      <td>5</td>\n",
       "    </tr>\n",
       "    <tr>\n",
       "      <th>United</th>\n",
       "      <td>5</td>\n",
       "    </tr>\n",
       "    <tr>\n",
       "      <th>Hawaiian</th>\n",
       "      <td>4</td>\n",
       "    </tr>\n",
       "    <tr>\n",
       "      <th>Southwest</th>\n",
       "      <td>4</td>\n",
       "    </tr>\n",
       "    <tr>\n",
       "      <th>Allegiant</th>\n",
       "      <td>3</td>\n",
       "    </tr>\n",
       "    <tr>\n",
       "      <th>Spirit</th>\n",
       "      <td>3</td>\n",
       "    </tr>\n",
       "    <tr>\n",
       "      <th>Frontier</th>\n",
       "      <td>2</td>\n",
       "    </tr>\n",
       "  </tbody>\n",
       "</table>\n",
       "</div>"
      ],
      "text/plain": [
       "           Provided\n",
       "Carrier            \n",
       "Alaska            5\n",
       "American          5\n",
       "Delta             5\n",
       "JetBlue           5\n",
       "United            5\n",
       "Hawaiian          4\n",
       "Southwest         4\n",
       "Allegiant         3\n",
       "Spirit            3\n",
       "Frontier          2"
      ]
     },
     "execution_count": 5,
     "metadata": {},
     "output_type": "execute_result"
    }
   ],
   "source": [
    "# This is the number of commitments for each airline, ranked in descending order\n",
    "airlines_analysis(df1, 'list')"
   ]
  },
  {
   "cell_type": "code",
   "execution_count": 6,
   "id": "56f36118",
   "metadata": {},
   "outputs": [
    {
     "data": {
      "text/plain": [
       "<Axes: title={'center': 'No. of Commitments per Airline'}, xlabel='Carrier'>"
      ]
     },
     "execution_count": 6,
     "metadata": {},
     "output_type": "execute_result"
    },
    {
     "data": {
      "image/png": "[encoded data removed]",
      "text/plain": [
       "<Figure size 640x480 with 1 Axes>"
      ]
     },
     "metadata": {},
     "output_type": "display_data"
    }
   ],
   "source": [
    "# Plotting the data above\n",
    "airlines_analysis(df1, 'plot')"
   ]
  },
  {
   "cell_type": "markdown",
   "id": "3e4828a6",
   "metadata": {},
   "source": [
    "From the list and graph: **Alaska, American, Delta, JetBlue, and United provide all 5 commitments** to their customers; while **Frontier provides the least with only 2**.\n",
    "\n",
    "On the other hand, now we will be checking how many airlines provide each commitment; ranking the commitments by most to least provided."
   ]
  },
  {
   "cell_type": "code",
   "execution_count": 7,
   "id": "6cf9e2ce",
   "metadata": {},
   "outputs": [
    {
     "data": {
      "text/html": [
       "<div>\n",
       "<style scoped>\n",
       "    .dataframe tbody tr th:only-of-type {\n",
       "        vertical-align: middle;\n",
       "    }\n",
       "\n",
       "    .dataframe tbody tr th {\n",
       "        vertical-align: top;\n",
       "    }\n",
       "\n",
       "    .dataframe thead th {\n",
       "        text-align: right;\n",
       "    }\n",
       "</style>\n",
       "<table border=\"1\" class=\"dataframe\">\n",
       "  <thead>\n",
       "    <tr style=\"text-align: right;\">\n",
       "      <th></th>\n",
       "      <th>Provided</th>\n",
       "    </tr>\n",
       "    <tr>\n",
       "      <th>Commitment</th>\n",
       "      <th></th>\n",
       "    </tr>\n",
       "  </thead>\n",
       "  <tbody>\n",
       "    <tr>\n",
       "      <th>Rebook passenger on same airline at no additional cost for significant delays</th>\n",
       "      <td>10</td>\n",
       "    </tr>\n",
       "    <tr>\n",
       "      <th>Complimentary hotel accommodations for any passenger affected by an overnight delay</th>\n",
       "      <td>9</td>\n",
       "    </tr>\n",
       "    <tr>\n",
       "      <th>Meal or meal cash/voucher when flight delay results in passenger waiting 3 hours or more</th>\n",
       "      <td>9</td>\n",
       "    </tr>\n",
       "    <tr>\n",
       "      <th>Complimentary ground transportation to and from hotel for any passenger affected by an overnight delay</th>\n",
       "      <td>8</td>\n",
       "    </tr>\n",
       "    <tr>\n",
       "      <th>Rebook on partner airline or another airline with which it has an agreement at no additional cost for significant delays</th>\n",
       "      <td>5</td>\n",
       "    </tr>\n",
       "  </tbody>\n",
       "</table>\n",
       "</div>"
      ],
      "text/plain": [
       "                                                                                                                          Provided\n",
       "Commitment                                                                                                                        \n",
       "Rebook passenger on same airline at no additional cost for significant delays                                                   10\n",
       "Complimentary hotel accommodations for any passenger affected by an overnight delay                                              9\n",
       "Meal or meal cash/voucher when flight delay results in passenger waiting 3 hours or more                                         9\n",
       "Complimentary ground transportation to and from hotel for any passenger affected by an overnight delay                           8\n",
       "Rebook on partner airline or another airline with which it has an agreement at no additional cost for significant delays         5"
      ]
     },
     "execution_count": 7,
     "metadata": {},
     "output_type": "execute_result"
    }
   ],
   "source": [
    "# This is the number of airlines complying with each commitment, in descending order\n",
    "commitments_analysis(df1, 'list')"
   ]
  },
  {
   "cell_type": "code",
   "execution_count": 8,
   "id": "625be83a",
   "metadata": {},
   "outputs": [
    {
     "data": {
      "text/plain": [
       "<Axes: title={'center': 'No. of Airlines per Commitment'}, xlabel='Commitment'>"
      ]
     },
     "execution_count": 8,
     "metadata": {},
     "output_type": "execute_result"
    },
    {
     "data": {
      "image/png": "[encoded data removed]",
      "text/plain": [
       "<Figure size 640x480 with 1 Axes>"
      ]
     },
     "metadata": {},
     "output_type": "display_data"
    }
   ],
   "source": [
    "# Plotting the data above\n",
    "commitments_analysis(df1, 'plot')"
   ]
  },
  {
   "cell_type": "markdown",
   "id": "2bb5a000",
   "metadata": {},
   "source": [
    "From the list and graph: **all 10 airlines rebook passenger on same airline at no additional cost for significant delays**, making it the most provided commitment; while **only 5 rebook on partner airline or another airline with which it has an agreement at no additional cost for significant delays**, making it the least provided commitment.\n",
    "\n",
    "### <font color = brown> <center> Analysis of Airline Customer Service During Flight Cancellations </center>\n",
    "Similar to the procedure above, we will now analyze airlines' customer service for flight cancellations."
   ]
  },
  {
   "cell_type": "code",
   "execution_count": 9,
   "id": "6a1c86a6",
   "metadata": {},
   "outputs": [],
   "source": [
    "# Initializing a class object for the 'cancellation' dataset\n",
    "Cancellation = DataSet('Airline_Customer_Service_Commitments_for_Cancellation.csv')\n",
    "\n",
    "df2 = Cancellation.df"
   ]
  },
  {
   "cell_type": "code",
   "execution_count": 10,
   "id": "933a8f9d",
   "metadata": {},
   "outputs": [
    {
     "data": {
      "text/html": [
       "<div>\n",
       "<style scoped>\n",
       "    .dataframe tbody tr th:only-of-type {\n",
       "        vertical-align: middle;\n",
       "    }\n",
       "\n",
       "    .dataframe tbody tr th {\n",
       "        vertical-align: top;\n",
       "    }\n",
       "\n",
       "    .dataframe thead th {\n",
       "        text-align: right;\n",
       "    }\n",
       "</style>\n",
       "<table border=\"1\" class=\"dataframe\">\n",
       "  <thead>\n",
       "    <tr style=\"text-align: right;\">\n",
       "      <th></th>\n",
       "      <th>Airline Carrier</th>\n",
       "    </tr>\n",
       "  </thead>\n",
       "  <tbody>\n",
       "    <tr>\n",
       "      <th>1</th>\n",
       "      <td>Alaska</td>\n",
       "    </tr>\n",
       "    <tr>\n",
       "      <th>2</th>\n",
       "      <td>Allegiant</td>\n",
       "    </tr>\n",
       "    <tr>\n",
       "      <th>3</th>\n",
       "      <td>American</td>\n",
       "    </tr>\n",
       "    <tr>\n",
       "      <th>4</th>\n",
       "      <td>Delta</td>\n",
       "    </tr>\n",
       "    <tr>\n",
       "      <th>5</th>\n",
       "      <td>Frontier</td>\n",
       "    </tr>\n",
       "    <tr>\n",
       "      <th>6</th>\n",
       "      <td>Hawaiian</td>\n",
       "    </tr>\n",
       "    <tr>\n",
       "      <th>7</th>\n",
       "      <td>JetBlue</td>\n",
       "    </tr>\n",
       "    <tr>\n",
       "      <th>8</th>\n",
       "      <td>Southwest</td>\n",
       "    </tr>\n",
       "    <tr>\n",
       "      <th>9</th>\n",
       "      <td>Spirit</td>\n",
       "    </tr>\n",
       "    <tr>\n",
       "      <th>10</th>\n",
       "      <td>United</td>\n",
       "    </tr>\n",
       "  </tbody>\n",
       "</table>\n",
       "</div>"
      ],
      "text/plain": [
       "   Airline Carrier\n",
       "1           Alaska\n",
       "2        Allegiant\n",
       "3         American\n",
       "4            Delta\n",
       "5         Frontier\n",
       "6         Hawaiian\n",
       "7          JetBlue\n",
       "8        Southwest\n",
       "9           Spirit\n",
       "10          United"
      ]
     },
     "execution_count": 10,
     "metadata": {},
     "output_type": "execute_result"
    }
   ],
   "source": [
    "# This is the list of airlines\n",
    "datalist(df2, 'Carrier')"
   ]
  },
  {
   "cell_type": "code",
   "execution_count": 11,
   "id": "9472ed30",
   "metadata": {},
   "outputs": [
    {
     "data": {
      "text/html": [
       "<div>\n",
       "<style scoped>\n",
       "    .dataframe tbody tr th:only-of-type {\n",
       "        vertical-align: middle;\n",
       "    }\n",
       "\n",
       "    .dataframe tbody tr th {\n",
       "        vertical-align: top;\n",
       "    }\n",
       "\n",
       "    .dataframe thead th {\n",
       "        text-align: right;\n",
       "    }\n",
       "</style>\n",
       "<table border=\"1\" class=\"dataframe\">\n",
       "  <thead>\n",
       "    <tr style=\"text-align: right;\">\n",
       "      <th></th>\n",
       "      <th>Commitment</th>\n",
       "    </tr>\n",
       "  </thead>\n",
       "  <tbody>\n",
       "    <tr>\n",
       "      <th>1</th>\n",
       "      <td>Rebook passenger on same airline at no additional cost</td>\n",
       "    </tr>\n",
       "    <tr>\n",
       "      <th>2</th>\n",
       "      <td>Rebook on partner airline or another airline with which it has an agreement at no additional cost</td>\n",
       "    </tr>\n",
       "    <tr>\n",
       "      <th>3</th>\n",
       "      <td>Meal or meal cash/voucher when cancellation results in passenger waiting for 3 hours or more for new flight</td>\n",
       "    </tr>\n",
       "    <tr>\n",
       "      <th>4</th>\n",
       "      <td>Complimentary hotel accommodations for any passenger affected by an overnight cancellation</td>\n",
       "    </tr>\n",
       "    <tr>\n",
       "      <th>5</th>\n",
       "      <td>Complimentary ground transportation to and from hotel for any passenger affected by an overnight cancellation</td>\n",
       "    </tr>\n",
       "  </tbody>\n",
       "</table>\n",
       "</div>"
      ],
      "text/plain": [
       "                                                                                                      Commitment\n",
       "1                                                         Rebook passenger on same airline at no additional cost\n",
       "2              Rebook on partner airline or another airline with which it has an agreement at no additional cost\n",
       "3    Meal or meal cash/voucher when cancellation results in passenger waiting for 3 hours or more for new flight\n",
       "4                     Complimentary hotel accommodations for any passenger affected by an overnight cancellation\n",
       "5  Complimentary ground transportation to and from hotel for any passenger affected by an overnight cancellation"
      ]
     },
     "execution_count": 11,
     "metadata": {},
     "output_type": "execute_result"
    }
   ],
   "source": [
    "# This is the list of commitments\n",
    "datalist(df2, 'Commitment')"
   ]
  },
  {
   "cell_type": "code",
   "execution_count": 12,
   "id": "c9276136",
   "metadata": {},
   "outputs": [
    {
     "data": {
      "text/html": [
       "<div>\n",
       "<style scoped>\n",
       "    .dataframe tbody tr th:only-of-type {\n",
       "        vertical-align: middle;\n",
       "    }\n",
       "\n",
       "    .dataframe tbody tr th {\n",
       "        vertical-align: top;\n",
       "    }\n",
       "\n",
       "    .dataframe thead th {\n",
       "        text-align: right;\n",
       "    }\n",
       "</style>\n",
       "<table border=\"1\" class=\"dataframe\">\n",
       "  <thead>\n",
       "    <tr style=\"text-align: right;\">\n",
       "      <th></th>\n",
       "      <th>Provided</th>\n",
       "    </tr>\n",
       "    <tr>\n",
       "      <th>Carrier</th>\n",
       "      <th></th>\n",
       "    </tr>\n",
       "  </thead>\n",
       "  <tbody>\n",
       "    <tr>\n",
       "      <th>Alaska</th>\n",
       "      <td>5</td>\n",
       "    </tr>\n",
       "    <tr>\n",
       "      <th>American</th>\n",
       "      <td>5</td>\n",
       "    </tr>\n",
       "    <tr>\n",
       "      <th>Delta</th>\n",
       "      <td>5</td>\n",
       "    </tr>\n",
       "    <tr>\n",
       "      <th>Hawaiian</th>\n",
       "      <td>5</td>\n",
       "    </tr>\n",
       "    <tr>\n",
       "      <th>JetBlue</th>\n",
       "      <td>5</td>\n",
       "    </tr>\n",
       "    <tr>\n",
       "      <th>United</th>\n",
       "      <td>5</td>\n",
       "    </tr>\n",
       "    <tr>\n",
       "      <th>Southwest</th>\n",
       "      <td>4</td>\n",
       "    </tr>\n",
       "    <tr>\n",
       "      <th>Allegiant</th>\n",
       "      <td>3</td>\n",
       "    </tr>\n",
       "    <tr>\n",
       "      <th>Spirit</th>\n",
       "      <td>3</td>\n",
       "    </tr>\n",
       "    <tr>\n",
       "      <th>Frontier</th>\n",
       "      <td>2</td>\n",
       "    </tr>\n",
       "  </tbody>\n",
       "</table>\n",
       "</div>"
      ],
      "text/plain": [
       "           Provided\n",
       "Carrier            \n",
       "Alaska            5\n",
       "American          5\n",
       "Delta             5\n",
       "Hawaiian          5\n",
       "JetBlue           5\n",
       "United            5\n",
       "Southwest         4\n",
       "Allegiant         3\n",
       "Spirit            3\n",
       "Frontier          2"
      ]
     },
     "execution_count": 12,
     "metadata": {},
     "output_type": "execute_result"
    }
   ],
   "source": [
    "# This is the number of commitments for each airline, ranked in descending order\n",
    "airlines_analysis(df2, 'list')"
   ]
  },
  {
   "cell_type": "code",
   "execution_count": 13,
   "id": "da7017dc",
   "metadata": {},
   "outputs": [
    {
     "data": {
      "text/plain": [
       "<Axes: title={'center': 'No. of Commitments per Airline'}, xlabel='Carrier'>"
      ]
     },
     "execution_count": 13,
     "metadata": {},
     "output_type": "execute_result"
    },
    {
     "data": {
      "image/png": "[encoded data removed]",
      "text/plain": [
       "<Figure size 640x480 with 1 Axes>"
      ]
     },
     "metadata": {},
     "output_type": "display_data"
    }
   ],
   "source": [
    "# This is the plot for the resulting data above\n",
    "airlines_analysis(df2, 'plot')"
   ]
  },
  {
   "cell_type": "markdown",
   "id": "22242c49",
   "metadata": {},
   "source": [
    "From the list and graph: **Alaska, American, Delta, Hawaiian, JetBlue, and United provide all 5 commitments** to their customers; while **Frontier provides the least with only 2**.\n",
    "\n",
    "Next is checking how many airlines provide each commitment; ranking the commitments by most to least provided."
   ]
  },
  {
   "cell_type": "code",
   "execution_count": 14,
   "id": "ac06daac",
   "metadata": {},
   "outputs": [
    {
     "data": {
      "text/html": [
       "<div>\n",
       "<style scoped>\n",
       "    .dataframe tbody tr th:only-of-type {\n",
       "        vertical-align: middle;\n",
       "    }\n",
       "\n",
       "    .dataframe tbody tr th {\n",
       "        vertical-align: top;\n",
       "    }\n",
       "\n",
       "    .dataframe thead th {\n",
       "        text-align: right;\n",
       "    }\n",
       "</style>\n",
       "<table border=\"1\" class=\"dataframe\">\n",
       "  <thead>\n",
       "    <tr style=\"text-align: right;\">\n",
       "      <th></th>\n",
       "      <th>Provided</th>\n",
       "    </tr>\n",
       "    <tr>\n",
       "      <th>Commitment</th>\n",
       "      <th></th>\n",
       "    </tr>\n",
       "  </thead>\n",
       "  <tbody>\n",
       "    <tr>\n",
       "      <th>Rebook passenger on same airline at no additional cost</th>\n",
       "      <td>10</td>\n",
       "    </tr>\n",
       "    <tr>\n",
       "      <th>Complimentary hotel accommodations for any passenger affected by an overnight cancellation</th>\n",
       "      <td>9</td>\n",
       "    </tr>\n",
       "    <tr>\n",
       "      <th>Meal or meal cash/voucher when cancellation results in passenger waiting for 3 hours or more for new flight</th>\n",
       "      <td>9</td>\n",
       "    </tr>\n",
       "    <tr>\n",
       "      <th>Complimentary ground transportation to and from hotel for any passenger affected by an overnight cancellation</th>\n",
       "      <td>8</td>\n",
       "    </tr>\n",
       "    <tr>\n",
       "      <th>Rebook on partner airline or another airline with which it has an agreement at no additional cost</th>\n",
       "      <td>6</td>\n",
       "    </tr>\n",
       "  </tbody>\n",
       "</table>\n",
       "</div>"
      ],
      "text/plain": [
       "                                                                                                               Provided\n",
       "Commitment                                                                                                             \n",
       "Rebook passenger on same airline at no additional cost                                                               10\n",
       "Complimentary hotel accommodations for any passenger affected by an overnight cancellation                            9\n",
       "Meal or meal cash/voucher when cancellation results in passenger waiting for 3 hours or more for new flight           9\n",
       "Complimentary ground transportation to and from hotel for any passenger affected by an overnight cancellation         8\n",
       "Rebook on partner airline or another airline with which it has an agreement at no additional cost                     6"
      ]
     },
     "execution_count": 14,
     "metadata": {},
     "output_type": "execute_result"
    }
   ],
   "source": [
    "# This is the number of airlines complying with each commitment, in descending order\n",
    "commitments_analysis(df2, 'list')"
   ]
  },
  {
   "cell_type": "code",
   "execution_count": 15,
   "id": "a4dd12a2",
   "metadata": {},
   "outputs": [
    {
     "data": {
      "text/plain": [
       "<Axes: title={'center': 'No. of Airlines per Commitment'}, xlabel='Commitment'>"
      ]
     },
     "execution_count": 15,
     "metadata": {},
     "output_type": "execute_result"
    },
    {
     "data": {
      "image/png": "[encoded data removed]",
      "text/plain": [
       "<Figure size 640x480 with 1 Axes>"
      ]
     },
     "metadata": {},
     "output_type": "display_data"
    }
   ],
   "source": [
    "# Plotting the data above\n",
    "commitments_analysis(df2, 'plot')"
   ]
  },
  {
   "cell_type": "markdown",
   "id": "36abffab",
   "metadata": {},
   "source": [
    "From the list and graph: **all 10 airlines rebook passenger on same airline at no additional cost**, making it the most provided commitment; while **only 6 rebook on partner airline or another airline with which it has an agreement at no additional cost**, making it the least provided commitment.\n",
    "\n",
    "### <font color = 'brown'> <center> Conclusion: Overall Best Airline(s) </center>\n",
    "Going back to my main goal of using the checker to guide future travel decisions in choosing airlines, the overall best airline(s) that provide the most commitments to their customers in case of delays or cancellations are found below."
   ]
  },
  {
   "cell_type": "code",
   "execution_count": 16,
   "id": "5f9c58bf",
   "metadata": {},
   "outputs": [
    {
     "data": {
      "text/html": [
       "<div>\n",
       "<style scoped>\n",
       "    .dataframe tbody tr th:only-of-type {\n",
       "        vertical-align: middle;\n",
       "    }\n",
       "\n",
       "    .dataframe tbody tr th {\n",
       "        vertical-align: top;\n",
       "    }\n",
       "\n",
       "    .dataframe thead th {\n",
       "        text-align: right;\n",
       "    }\n",
       "</style>\n",
       "<table border=\"1\" class=\"dataframe\">\n",
       "  <thead>\n",
       "    <tr style=\"text-align: right;\">\n",
       "      <th></th>\n",
       "      <th>Provided</th>\n",
       "    </tr>\n",
       "    <tr>\n",
       "      <th>Carrier</th>\n",
       "      <th></th>\n",
       "    </tr>\n",
       "  </thead>\n",
       "  <tbody>\n",
       "    <tr>\n",
       "      <th>Alaska</th>\n",
       "      <td>10</td>\n",
       "    </tr>\n",
       "    <tr>\n",
       "      <th>American</th>\n",
       "      <td>10</td>\n",
       "    </tr>\n",
       "    <tr>\n",
       "      <th>Delta</th>\n",
       "      <td>10</td>\n",
       "    </tr>\n",
       "    <tr>\n",
       "      <th>JetBlue</th>\n",
       "      <td>10</td>\n",
       "    </tr>\n",
       "    <tr>\n",
       "      <th>United</th>\n",
       "      <td>10</td>\n",
       "    </tr>\n",
       "    <tr>\n",
       "      <th>Hawaiian</th>\n",
       "      <td>9</td>\n",
       "    </tr>\n",
       "    <tr>\n",
       "      <th>Southwest</th>\n",
       "      <td>8</td>\n",
       "    </tr>\n",
       "    <tr>\n",
       "      <th>Allegiant</th>\n",
       "      <td>6</td>\n",
       "    </tr>\n",
       "    <tr>\n",
       "      <th>Spirit</th>\n",
       "      <td>6</td>\n",
       "    </tr>\n",
       "    <tr>\n",
       "      <th>Frontier</th>\n",
       "      <td>4</td>\n",
       "    </tr>\n",
       "  </tbody>\n",
       "</table>\n",
       "</div>"
      ],
      "text/plain": [
       "           Provided\n",
       "Carrier            \n",
       "Alaska           10\n",
       "American         10\n",
       "Delta            10\n",
       "JetBlue          10\n",
       "United           10\n",
       "Hawaiian          9\n",
       "Southwest         8\n",
       "Allegiant         6\n",
       "Spirit            6\n",
       "Frontier          4"
      ]
     },
     "execution_count": 16,
     "metadata": {},
     "output_type": "execute_result"
    }
   ],
   "source": [
    "# adding the two dataframes and storing it as a new df to be used for analysis\n",
    "df3 = pd.concat([df1, df2])\n",
    "\n",
    "# this is the ranked list of airlines in both cancellation and delays\n",
    "airlines_analysis(df3, 'list')"
   ]
  },
  {
   "cell_type": "code",
   "execution_count": 17,
   "id": "c63de6cb",
   "metadata": {},
   "outputs": [
    {
     "data": {
      "text/plain": [
       "<Axes: title={'center': 'No. of Commitments per Airline'}, xlabel='Carrier'>"
      ]
     },
     "execution_count": 17,
     "metadata": {},
     "output_type": "execute_result"
    },
    {
     "data": {
      "image/png": "[encoded data removed]",
      "text/plain": [
       "<Figure size 640x480 with 1 Axes>"
      ]
     },
     "metadata": {},
     "output_type": "display_data"
    }
   ],
   "source": [
    "# this is the plot of the ranked list above\n",
    "airlines_analysis(df3, 'plot')"
   ]
  },
  {
   "cell_type": "markdown",
   "id": "9fc071d5",
   "metadata": {},
   "source": [
    "**Alaska, American, Delta, JetBlue, and United provide all included commitments; whereas Frontier provides the least commitments with only 4.**"
   ]
  },
  {
   "cell_type": "code",
   "execution_count": 18,
   "id": "41697115",
   "metadata": {},
   "outputs": [
    {
     "name": "stdout",
     "output_type": "stream",
     "text": [
      "\u001b[1m============================= test session starts ==============================\u001b[0m\n",
      "platform darwin -- Python 3.10.9, pytest-7.1.2, pluggy-1.0.0\n",
      "rootdir: /Users/jlnnemrc/Desktop/COGS18FinalProject\n",
      "plugins: anyio-3.5.0\n",
      "collected 3 items                                                              \u001b[0m\u001b[1m\n",
      "\n",
      "my_module/test_functions.py \u001b[32m.\u001b[0m\u001b[32m.\u001b[0m\u001b[32m.\u001b[0m\u001b[32m                                          [100%]\u001b[0m\n",
      "\n",
      "\u001b[32m============================== \u001b[32m\u001b[1m3 passed\u001b[0m\u001b[32m in 0.75s\u001b[0m\u001b[32m ===============================\u001b[0m\n"
     ]
    }
   ],
   "source": [
    "!pytest"
   ]
  },
  {
   "cell_type": "markdown",
   "id": "65e00d78",
   "metadata": {},
   "source": [
    "#### Extra Credit (*optional*)\n",
    "\n",
    "Prior to taking this course, I had very little familiarity with Python or programming in general. My project exceeded expectations by addressing a real-life problem and analyzing pertinent data to inform future decisions, which are among the core principles of data science (a field I have been interested in). Furthermore, I knew little of modules like matplotlib and pandas, so I looked into their website's documentation to better grasp how to use them to meet the requirements of my project (such as adding dataframes or simply changing colors in plots), thus I believe I challenged myself in this project and went beyond the minimum requirements."
   ]
  }
 ],
 "metadata": {
  "kernelspec": {
   "display_name": "Python 3 (ipykernel)",
   "language": "python",
   "name": "python3"
  },
  "language_info": {
   "codemirror_mode": {
    "name": "ipython",
    "version": 3
   },
   "file_extension": ".py",
   "mimetype": "text/x-python",
   "name": "python",
   "nbconvert_exporter": "python",
   "pygments_lexer": "ipython3",
   "version": "3.10.9"
  }
 },
 "nbformat": 4,
 "nbformat_minor": 5
}
